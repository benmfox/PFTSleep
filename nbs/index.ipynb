{
 "cells": [
  {
   "cell_type": "code",
   "execution_count": null,
   "metadata": {},
   "outputs": [],
   "source": [
    "#| hide\n",
    "import pftsleep\n"
   ]
  },
  {
   "cell_type": "markdown",
   "metadata": {},
   "source": [
    "# PFTSleep\n",
    "\n",
    "> A foundational transformer leveraging full night, multichannel sleep study data accurately classifies sleep stages.\n",
    "\n",
    "\n",
    "See the [preprint](https://www.medrxiv.org/content/10.1101/2024.08.02.24311417v1) for more details."
   ]
  },
  {
   "cell_type": "markdown",
   "metadata": {},
   "source": [
    "## Overview\n",
    "\n",
    "PFTSleep is a Python package for sleep stage classification using a pre-trained foundational transformer. The repository is built using nbdev, which means the package is developed in Jupyter notebooks."
   ]
  },
  {
   "attachments": {},
   "cell_type": "markdown",
   "metadata": {},
   "source": [
    "## Install"
   ]
  },
  {
   "attachments": {},
   "cell_type": "markdown",
   "metadata": {},
   "source": [
    "```sh\n",
    "pip install PFTSleep\n",
    "```"
   ]
  },
  {
   "cell_type": "markdown",
   "metadata": {},
   "source": [
    "## Repository Structure and Usage\n"
   ]
  },
  {
   "cell_type": "markdown",
   "metadata": {},
   "source": [
    "This is an [nbdev](https://nbdev.fast.ai/) repository, which means the package is developed in Jupyter notebooks located in the `nbs/` directory. Any modifications or additions to the `PFTSleep` package should be made by editing these notebooks.\n",
    "\n",
    "To build the package, run `nbdev_prepare` in the terminal. This will generate the `PFTSleep` package in the `PFTSleep/` directory and all python modules, which can be imported and used in other Python projects.\n",
    "\n",
    "To add new functionality, create a new notebook or add to exisitng in the `nbs/` directory and follow the instructions in the [nbdev documentation](https://nbdev.fast.ai/quickstart.html) to add the new functionality. Then, run `nbdev_prepare` to generate the `PFTSleep` package with the new functionality.\n"
   ]
  },
  {
   "cell_type": "markdown",
   "metadata": {},
   "source": [
    "### Directory Structure:\n",
    "- `nbs/`: Contains the source notebooks that generate the Python package\n",
    "- `jobs/`: Contains processing and training scripts\n",
    "  - `apples/`: Processing scripts for the apples dataset\n",
    "  - `mesa/`: Processing scripts for the mesa dataset\n",
    "  - `mros/`: Processing scripts for the mros dataset\n",
    "  - `shhs/`: Processing scripts for the shhs dataset\n",
    "  - `wsc/`: Processing scripts for the wsc dataset\n",
    "  - `model_training/`:\n",
    "    - `train_transformer.py`: Trains the initial foundational transformer model\n",
    "    - `train_classifier.py`: Trains the probing head for sleep stage classification\n",
    "\n",
    "Each dataset directory contains scripts to:\n",
    "- Create hypnogram CSVs from annotations\n",
    "- Build zarr files from EDF files\n",
    "- Process and standardize the data for model training\n"
   ]
  },
  {
   "cell_type": "markdown",
   "metadata": {},
   "source": [
    "### Model Training Pipeline\n",
    "\n",
    "1. Foundation Model Training (`jobs/model_training/train_transformer.py`)\n",
    "   - Trains the base transformer model on sleep data zarr files\n",
    "   - Creates general purpose representations of sleep signals\n",
    "\n",
    "2. Probe Training (`jobs/model_training/train_classifier.py`)\n",
    "   - Trains a classification head on top of the foundation model"
   ]
  },
  {
   "cell_type": "markdown",
   "metadata": {},
   "source": [
    "## Technical Details\n",
    "\n",
    "- We trained the foundational model on 2x H100 80gb GPUs using PyTorch Lightning. \n",
    "- We monitored training using the [Weights and Biases](https://wandb.ai/) platform.\n",
    "- We performed hyperparameter optimization using Optuna."
   ]
  },
  {
   "cell_type": "markdown",
   "metadata": {},
   "source": [
    "## Citation\n",
    "\n",
    "If you use PFTSleep in your research, please cite:\n",
    "\n",
    "```bibtex\n",
    "@article {Fox2024.08.02.24311417,\n",
    "\tauthor = {Fox, Benjamin and Jiang, Joy and Wickramaratne, Sajila and Kovatch, Patricia and Suarez-Farinas, Mayte and Shah, Neomi A and Parekh, Ankit and Nadkarni, Girish N},\n",
    "\ttitle = {A foundational transformer leveraging full night, multichannel sleep study data accurately classifies sleep stages},\n",
    "\telocation-id = {2024.08.02.24311417},\n",
    "\tyear = {2024},\n",
    "\tdoi = {10.1101/2024.08.02.24311417},\n",
    "\tpublisher = {Cold Spring Harbor Laboratory Press},\n",
    "}\n",
    "```\n"
   ]
  },
  {
   "cell_type": "markdown",
   "metadata": {},
   "source": []
  }
 ],
 "metadata": {
  "kernelspec": {
   "display_name": "python3",
   "language": "python",
   "name": "python3"
  }
 },
 "nbformat": 4,
 "nbformat_minor": 4
}
